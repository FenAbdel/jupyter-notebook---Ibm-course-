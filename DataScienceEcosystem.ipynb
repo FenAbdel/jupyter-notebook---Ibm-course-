{
 "cells": [
  {
   "cell_type": "markdown",
   "id": "3d15954a-5b40-4103-b62d-66768f98b58d",
   "metadata": {},
   "source": [
    "# Data Science Tools and Ecosystem"
   ]
  },
  {
   "cell_type": "markdown",
   "id": "3aeec5ee-20ca-4232-a3a1-073df678033c",
   "metadata": {},
   "source": [
    "In this notebook, Data Science Tools and Ecosystem are summarized.\r\n"
   ]
  },
  {
   "cell_type": "markdown",
   "id": "cf122e6f-3a48-40ee-9902-5811f26d6e91",
   "metadata": {},
   "source": [
    "# Objectives:\r\n",
    "\r\n",
    "- **List popular languages for Data Science**\r\n",
    "- **Introduce commonly used libraries in Data Science**\r\n",
    "- **Explore Data Science tools and environments**\r\n",
    "- **Perform basic arithmetic operations in a code cell**\r\n",
    "- **Convert units using expressions in Python**\n"
   ]
  },
  {
   "cell_type": "markdown",
   "id": "f08355a0-d990-4a03-b5d6-001c09017272",
   "metadata": {},
   "source": [
    "Some of the popular languages that Data Scientists use are:\r\n",
    "\r\n",
    "1. **Python**: Python is widely used for data science due to its simplicity, extensive libraries (such as NumPy, Pandas, and scikit-learn), and a supportive community.\r\n",
    "\r\n",
    "2. **R**: R is another language specifically designed for statistical computing and data analysis. It provides a rich ecosystem of packages for statistical modeling and visualization.\r\n",
    "\r\n",
    "3. **SQL**: While not a programming language in the traditional sense, SQL (Structured Query Language) is crucial for working with relational databases, which is a common task in data scications.\r\n",
    "\r\n"
   ]
  },
  {
   "cell_type": "markdown",
   "id": "b2c53e08-9ef9-4e5f-b14a-c23adbe00bc0",
   "metadata": {},
   "source": [
    "Some of the commonly used libraries used by Data Scientists include:\r\n",
    "\r\n",
    "1. **NumPy**: NumPy is a fundamental package for scientific computing in Python, providing support for large, multi-dimensional arrays and matrices, along with mathematical functions.\r\n",
    "\r\n",
    "2. **Pandas**: Pandas is a powerful library for data manipulation and analysis. It provides data structures like DataFrame for efficient data handling and analysis in Python.\r\n",
    "\r\n",
    "3. **Matplotlib**: Matplotlib is a popular plotting library for Python. It enables the creation of various types of plots and visualizations to explore and communicate data.\r\n",
    "\r\n",
    "4. **Scikit-learn**: Scikit-learn is a machine learning library that provides simple and efficient tools for data mining and data analysis. It includes various algorithms for classification, regression, clustering, and more.\r\n",
    "\r\n",
    "5. **TensorFlow and PyTorch**: These are deep learning frameworks widely used for building and training neural networks in the field of machine learning and artificial intelligence.\r\n",
    "\r\n"
   ]
  },
  {
   "cell_type": "markdown",
   "id": "6ace0097-95ae-4d4e-9ee6-c781d7c0be6d",
   "metadata": {},
   "source": [
    "# Data Science Tools\r\n",
    "\r\n",
    "| Development Environment Tools |\r\n",
    "| ----------------------------- |\r\n",
    "| Jupyter Notebook              |\r\n",
    "| RStudio                       |\r\n",
    "| VS Code with Python Extension |\r\n"
   ]
  },
  {
   "cell_type": "markdown",
   "id": "73e76385-e778-4cba-931d-104077bd3103",
   "metadata": {},
   "source": [
    "### Below are a few examples of evaluating arithmetic expressions in Python.\r\n"
   ]
  },
  {
   "cell_type": "code",
   "execution_count": 1,
   "id": "0ba26e20-0201-489e-a71d-c3febc290697",
   "metadata": {},
   "outputs": [
    {
     "data": {
      "text/plain": [
       "17"
      ]
     },
     "execution_count": 1,
     "metadata": {},
     "output_type": "execute_result"
    }
   ],
   "source": [
    "# This is a simple arithmetic expression to multiply then add integers.\n",
    "result = (3 * 4) + 5\n",
    "result"
   ]
  },
  {
   "cell_type": "code",
   "execution_count": 2,
   "id": "8dd9e6c8-f081-4e38-b933-07193ddc7b22",
   "metadata": {},
   "outputs": [
    {
     "data": {
      "text/plain": [
       "3.3333333333333335"
      ]
     },
     "execution_count": 2,
     "metadata": {},
     "output_type": "execute_result"
    }
   ],
   "source": [
    "# This will convert 200 minutes to hours by dividing by 60.\n",
    "minutes = 200\n",
    "hours = minutes / 60\n",
    "hours\n"
   ]
  },
  {
   "cell_type": "markdown",
   "id": "b479bf68-4210-4d7b-b298-fb1ea02c86da",
   "metadata": {},
   "source": [
    "## Author\n",
    "Abdeljalil Fenniri"
   ]
  }
 ],
 "metadata": {
  "kernelspec": {
   "display_name": "Python 3 (ipykernel)",
   "language": "python",
   "name": "python3"
  },
  "language_info": {
   "codemirror_mode": {
    "name": "ipython",
    "version": 3
   },
   "file_extension": ".py",
   "mimetype": "text/x-python",
   "name": "python",
   "nbconvert_exporter": "python",
   "pygments_lexer": "ipython3",
   "version": "3.9.9"
  }
 },
 "nbformat": 4,
 "nbformat_minor": 5
}
